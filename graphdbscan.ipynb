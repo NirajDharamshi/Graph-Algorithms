{
  "nbformat": 4,
  "nbformat_minor": 0,
  "metadata": {
    "colab": {
      "name": "graphdbscan.ipynb",
      "version": "0.3.2",
      "provenance": [],
      "collapsed_sections": [],
      "include_colab_link": true
    },
    "kernelspec": {
      "name": "python3",
      "display_name": "Python 3"
    }
  },
  "cells": [
    {
      "cell_type": "markdown",
      "metadata": {
        "id": "view-in-github",
        "colab_type": "text"
      },
      "source": [
        "<a href=\"https://colab.research.google.com/github/NirajDharamshi/Graph-Algorithms/blob/master/graphdbscan.ipynb\" target=\"_parent\"><img src=\"https://colab.research.google.com/assets/colab-badge.svg\" alt=\"Open In Colab\"/></a>"
      ]
    },
    {
      "metadata": {
        "id": "EHMuQtQNX3Ki",
        "colab_type": "code",
        "colab": {}
      },
      "cell_type": "code",
      "source": [
        "import numpy\n",
        "#points=[1,2.1,2.9,4.5,5,5.6,6.2,6.5,7.1,9.1,10,11,13.5,17,19]\n",
        "points=[1,2.1,2.9,4.5,5,5.6,6.2,6.5,7.1,9.1,10,11,13.5,17,19,19.5,19.7,19.9,20.5,25,25.5,25.7,25.8]"
      ],
      "execution_count": 0,
      "outputs": []
    },
    {
      "metadata": {
        "id": "Z6-jZOEphn9b",
        "colab_type": "code",
        "colab": {}
      },
      "cell_type": "code",
      "source": [
        "    core=[]\n",
        "    for i in range(len(points)):\n",
        "      neighbors = []\n",
        "     # print('--------------------------')\n",
        "      for Pn in range(0, len(points)):\n",
        "        \n",
        "        # If the distance is below the threshold, add it to the neighbors list.\n",
        "        if numpy.linalg.norm(points[i] - points[Pn]) < 1.5:\n",
        "          neighbors.append(Pn)\n",
        "          \n",
        "      if len(neighbors) > 3 :\n",
        "          core.append(points[i])\n",
        "         \n",
        "          "
      ],
      "execution_count": 0,
      "outputs": []
    },
    {
      "metadata": {
        "id": "3RunbijkvD0h",
        "colab_type": "code",
        "colab": {}
      },
      "cell_type": "code",
      "source": [
        "    border=[]\n",
        "    for i in range(len(points)):\n",
        "      neighbors = []\n",
        "   \n",
        "      for Pn in range(0, len(points)):\n",
        "        \n",
        "        # If the distance is below the threshold, add it to the neighbors list.\n",
        "        if numpy.linalg.norm(points[i] - points[Pn]) < 1.5:\n",
        "          neighbors.append(points[Pn])\n",
        "          #print(neighbors)\n",
        "      if len(neighbors) < 4:\n",
        "        for j in range(len(neighbors)):\n",
        "            if neighbors[j] in core:\n",
        "              border.append(points[i])\n",
        "              break"
      ],
      "execution_count": 0,
      "outputs": []
    },
    {
      "metadata": {
        "id": "79fA5gmYpJp-",
        "colab_type": "code",
        "outputId": "208202c4-e109-4eef-d89c-736754bf3663",
        "colab": {
          "base_uri": "https://localhost:8080/",
          "height": 35
        }
      },
      "cell_type": "code",
      "source": [
        "border"
      ],
      "execution_count": 0,
      "outputs": [
        {
          "output_type": "execute_result",
          "data": {
            "text/plain": [
              "[4.5, 7.1]"
            ]
          },
          "metadata": {
            "tags": []
          },
          "execution_count": 4
        }
      ]
    },
    {
      "metadata": {
        "id": "iCiy3FLO0nWB",
        "colab_type": "code",
        "colab": {}
      },
      "cell_type": "code",
      "source": [
        "noise=[]\n",
        "\n",
        "for i in range(len(points)):\n",
        "  if points[i] not in core and points[i] not in border:\n",
        "    noise.append(points[i])"
      ],
      "execution_count": 0,
      "outputs": []
    },
    {
      "metadata": {
        "id": "zWNZ0lN6hMM-",
        "colab_type": "code",
        "outputId": "6b6c0f6c-a614-4ee8-f50d-b3467334ef1c",
        "colab": {
          "base_uri": "https://localhost:8080/",
          "height": 35
        }
      },
      "cell_type": "code",
      "source": [
        "len(noise)+len(core)+len(border)"
      ],
      "execution_count": 0,
      "outputs": [
        {
          "output_type": "execute_result",
          "data": {
            "text/plain": [
              "23"
            ]
          },
          "metadata": {
            "tags": []
          },
          "execution_count": 6
        }
      ]
    },
    {
      "metadata": {
        "id": "ve4VVMKQhXII",
        "colab_type": "code",
        "outputId": "e39c094e-f49f-4d9f-8c35-4093fcd5c18d",
        "colab": {
          "base_uri": "https://localhost:8080/",
          "height": 35
        }
      },
      "cell_type": "code",
      "source": [
        "len(points)"
      ],
      "execution_count": 0,
      "outputs": [
        {
          "output_type": "execute_result",
          "data": {
            "text/plain": [
              "23"
            ]
          },
          "metadata": {
            "tags": []
          },
          "execution_count": 7
        }
      ]
    },
    {
      "metadata": {
        "id": "LCWEKxt3hYwk",
        "colab_type": "code",
        "colab": {}
      },
      "cell_type": "code",
      "source": [
        "import networkx as nx"
      ],
      "execution_count": 0,
      "outputs": []
    },
    {
      "metadata": {
        "id": "8IFPwDmziP-j",
        "colab_type": "code",
        "colab": {}
      },
      "cell_type": "code",
      "source": [
        "import matplotlib.pyplot as plt"
      ],
      "execution_count": 0,
      "outputs": []
    },
    {
      "metadata": {
        "id": "b2PbTgXnibKU",
        "colab_type": "code",
        "colab": {}
      },
      "cell_type": "code",
      "source": [
        "G = nx.Graph()"
      ],
      "execution_count": 0,
      "outputs": []
    },
    {
      "metadata": {
        "id": "ZgEZpPDoihGW",
        "colab_type": "code",
        "colab": {}
      },
      "cell_type": "code",
      "source": [
        "G.add_nodes_from(core)"
      ],
      "execution_count": 0,
      "outputs": []
    },
    {
      "metadata": {
        "id": "1lCgvfH8jbnp",
        "colab_type": "code",
        "colab": {}
      },
      "cell_type": "code",
      "source": [
        "for i in range(len(core)):\n",
        "      core_n = []\n",
        "   \n",
        "      for Pn in range(0, len(core)):\n",
        "        \n",
        "        # If the distance is below the threshold, add it to the neighbors list.\n",
        "        if numpy.linalg.norm(core[i] - core[Pn]) < 1.5:\n",
        "          G.add_edges_from([(core[i],core[Pn])])"
      ],
      "execution_count": 0,
      "outputs": []
    },
    {
      "metadata": {
        "id": "o3wpjacvldv7",
        "colab_type": "code",
        "outputId": "56b1c823-2e98-45a4-c540-9fbce5bc0726",
        "colab": {
          "base_uri": "https://localhost:8080/",
          "height": 445
        }
      },
      "cell_type": "code",
      "source": [
        "nx.draw_circular(G, with_labels=True)"
      ],
      "execution_count": 0,
      "outputs": [
        {
          "output_type": "display_data",
          "data": {
            "image/png": "[encoded data removed]",
            "text/plain": [
              "<matplotlib.figure.Figure at 0x7fe1b0c510b8>"
            ]
          },
          "metadata": {
            "tags": []
          }
        }
      ]
    },
    {
      "metadata": {
        "id": "OUk2xw-cSmAA",
        "colab_type": "code",
        "colab": {}
      },
      "cell_type": "code",
      "source": [
        "clusters = []"
      ],
      "execution_count": 0,
      "outputs": []
    },
    {
      "metadata": {
        "id": "MQIl8G9EZdQk",
        "colab_type": "code",
        "outputId": "8a4d2c79-ea11-4883-8215-329ad569f0dc",
        "colab": {
          "base_uri": "https://localhost:8080/",
          "height": 35
        }
      },
      "cell_type": "code",
      "source": [
        "points[5]"
      ],
      "execution_count": 0,
      "outputs": [
        {
          "output_type": "execute_result",
          "data": {
            "text/plain": [
              "5.6"
            ]
          },
          "metadata": {
            "tags": []
          },
          "execution_count": 15
        }
      ]
    },
    {
      "metadata": {
        "id": "RFKRrbKJpKwK",
        "colab_type": "code",
        "colab": {}
      },
      "cell_type": "code",
      "source": [
        "for i in core:\n",
        "  a=list(nx.node_connected_component(G,i))\n",
        "  a.sort() \n",
        "  if a not in clusters:\n",
        "     clusters.append(list(a))\n",
        "  \n",
        "  \n",
        "  \n",
        "  \n"
      ],
      "execution_count": 0,
      "outputs": []
    },
    {
      "metadata": {
        "id": "lFXotI3dQ__O",
        "colab_type": "code",
        "outputId": "facfe289-03d1-43db-f660-81b542e8005a",
        "colab": {
          "base_uri": "https://localhost:8080/",
          "height": 35
        }
      },
      "cell_type": "code",
      "source": [
        "len(clusters)"
      ],
      "execution_count": 0,
      "outputs": [
        {
          "output_type": "execute_result",
          "data": {
            "text/plain": [
              "3"
            ]
          },
          "metadata": {
            "tags": []
          },
          "execution_count": 17
        }
      ]
    },
    {
      "metadata": {
        "id": "sI5WePIPYtUA",
        "colab_type": "code",
        "outputId": "bd4ed561-94ec-4b53-866c-77a7113bdfc1",
        "colab": {
          "base_uri": "https://localhost:8080/",
          "height": 35
        }
      },
      "cell_type": "code",
      "source": [
        "clusters[2]"
      ],
      "execution_count": 0,
      "outputs": [
        {
          "output_type": "execute_result",
          "data": {
            "text/plain": [
              "[25, 25.5, 25.7, 25.8]"
            ]
          },
          "metadata": {
            "tags": []
          },
          "execution_count": 22
        }
      ]
    }
  ]
}